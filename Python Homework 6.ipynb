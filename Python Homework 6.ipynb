{
 "cells": [
  {
   "cell_type": "markdown",
   "id": "cfc45565-cc50-485a-bd22-8739654bf161",
   "metadata": {
    "id": "cuYPG-FC8ryF"
   },
   "source": [
    "# Week 6 Homework\n",
    "\n",
    "This homework provides an opportunity for you to practice the most important topics we discussed in week 5 and 6. It will also prepare you for week 7 of this course."
   ]
  },
  {
   "cell_type": "markdown",
   "id": "c663dcab-66a4-497d-8665-d90598140f8a",
   "metadata": {
    "id": "cKDuOTQB8ryN",
    "jp-MarkdownHeadingCollapsed": true,
    "tags": []
   },
   "source": [
    "## Submission guidelines:\n",
    "**`Please display all your output using the print() function`**\n",
    "\n",
    "**Once you are done, remove all the output (`Right click on screen --> Clear All Outputs`), save your file as: `YourFirstName_YourLastName_Week_6_SectionNumber.ipynb`.**\n",
    "\n",
    " - **Thursday morning section number: X1**\n",
    "\n",
    " - **Thursday afternoon section number: X2**\n",
    "\n",
    "**If you submit under any other name/format, your submission will not be graded!**\n",
    "\n",
    "**Due at 11:59 pm on Wednesday October 11, 2023**\n",
    "\n",
    "**We have on-line office hours on Monday night over zoom; please feel free to join and ask your questions. You are better off trying all the questions before the office hours**\n",
    "\n",
    "**You can use `ChatGPT`; my strong suggestion is that you write your own code and then use a prompt such as:**\n",
    "\n",
    "`I wrote the following code to solve [problem statement].`\n",
    "\n",
    "`Your own code goes here`\n",
    "\n",
    "`What do you think about my code? Can you improve it? I am a beginner python learner`\n",
    "\n",
    "The most important part is to try to understand ChatGPT's outcome. `Please do NOT submit chatGPT's code as your work.` Remember that goal is to learn from this wonderful tool and get better.\n",
    "\n",
    "\n",
    "`**please print out all your results and answers using the print() function, except for Q8 (create the dictionary) and Q12**`\n",
    "\n",
    "## **Please import all the needed libraries/modules for each cell in that cell. As an example if you will use numpy in questions 1 and 2 and 14, please make sure to include `import numpy as np` in ALL these  cells.**"
   ]
  },
  {
   "cell_type": "markdown",
   "id": "6744cacc-c27f-4424-9a41-130fe413bade",
   "metadata": {},
   "source": [
    "## Note\n",
    " - Please set `pandas` `display precision` to `2`. \n",
    " - You cannot use `.apply` function."
   ]
  },
  {
   "cell_type": "markdown",
   "id": "562f889e-706b-4deb-b3bc-4732cb87b6b0",
   "metadata": {
    "tags": []
   },
   "source": [
    "# Question 1: Packages for fast Exploratory Data Analysis (EDA)\n",
    "\n",
    "<p style=\"text-align: center;\"> <img src=https://www.dropbox.com/s/fl2zv2pxavee42e/Titanic_4.jpg?raw=1 width=800/>\n",
    "\n",
    "\n"
   ]
  },
  {
   "cell_type": "markdown",
   "id": "13d1e47d-9ce0-4b76-b547-98326e61c299",
   "metadata": {},
   "source": [
    "In the last several years, there has been an explosion of packages that deliver `fast` data exploration with very little code (`low-code package`). Some of the most commonly used `low-code EDA (Exploratory Data Analysis)` packages are:\n",
    "\n",
    " - **lux:** https://pypi.org/project/lux-widget/  \n",
    " - **yopo:** https://pypi.org/project/yopo/    \n",
    " - **sweetviz:** https://pypi.org/project/sweetviz/ \n",
    " - **autoviz:** https://pypi.org/project/autoviz/  \n",
    " - **d-tale:** https://pypi.org/project/dtale/ \n",
    " - **ydata-profiling:**  https://pypi.org/project/pandas-profiling/\n",
    "    \n",
    "\n",
    "This question will guide you through installing `ydata-profiling`; exploring a dataset, and exporting your report to a `html` format. You are required to submit your `html` report as well. This is what you need to do:\n",
    "\n",
    " - Install `ydata-profiling` by running `pip install -U ydata-profiling` in a cell.\n",
    " - We will explore the famous `Titanic dataset` using this package. `Titanic dataset` contains informationof the passangers aboard the `Titanic` ship. Read the titanic dataset from `https://www.dropbox.com/s/075uxba459751z9/titanic.csv?raw=1` into a dataframe called `df_titanic`.\n",
    " - Use `ydata-profiling` to generate an exploratory report based on this dataset. You can start by running \n",
    " \n",
    ">>```python\n",
    "import ydata_profiling \n",
    "profile_titanic = ydata_profiling.ProfileReport(df_titanic, title=\"Give a title\")\n",
    "profile_titanic\n",
    ">>```\n",
    "\n",
    "**Please explore the `html` file and understand the kind of analysis this package offers.**\n",
    "\n",
    " - **For more details:** You can see one example here: `https://docs.profiling.ydata.ai/4.5/getting-started/concepts/`.\n",
    " - Create a `html` file of the report. Set the `title` of your `html` file to `titanic_profile_created_by_Your_firstname_your_lastname_section_number`. Make sure to also name your `html` file as `titanic_profile_created_by_Your_firstname_your_lastname_section_number`. \n",
    " - You are required to submit a zip file containing the generated `html` file.\n",
    "\n",
    "**For Your Information:** This package recently changed its name from `pandas-profiling` to `ydata-profiling`"
   ]
  },
  {
   "cell_type": "code",
   "execution_count": null,
   "id": "3e523d5e-71f3-4490-b416-e6a99f33dde8",
   "metadata": {
    "tags": []
   },
   "outputs": [],
   "source": [
    "# Solution\n",
    "# !pip install ydata-profiling\n",
    "import ydata_profiling\n",
    "import pandas as pd\n",
    "pd.options.display.precision = 2\n",
    "df_titanic = pd.read_csv('https://www.dropbox.com/s/075uxba459751z9/titanic.csv?raw=1')\n",
    "profile_titanic=ydata_profiling.ProfileReport(df_titanic, title='Titanic Dataset Exploration')\n",
    "profile_titanic.to_file(\"titanic_profile_created_by_Carly_Craffen_X_1.html\")"
   ]
  },
  {
   "cell_type": "markdown",
   "id": "15f4610f-a64e-467a-9714-64588dea3454",
   "metadata": {},
   "source": [
    "# Question 2: `Yahoo Finance`\n",
    "\n",
    "<p style=\"text-align: center;\"> <img src=https://www.dropbox.com/s/o7fv9wbd97p2bb5/yf.png?raw=1 width=200/>\n"
   ]
  },
  {
   "cell_type": "markdown",
   "id": "28343daf-b25a-4590-a96a-0c87f943d73f",
   "metadata": {
    "id": "-wfo6tVnYnd4"
   },
   "source": [
    "This assignment allows you to connect to `Yahoo Finance` (https://pypi.org/project/yfinance/); get financial data, and work with it. \n",
    "`yfinance` package provides stock market data and company information. Install the `yfinance` package using `pip install yfinance`. Make sure to run that command in one cell all by itself. `yfinance` provides financial data as a `DataFrame`; this is an excellent opportunity to practice working with pandas' `DataFrame`.\n",
    "\n",
    " - In the stock markets, each traded company is usually recognized with a `symbol` (sometimes called `ticker`). Go to https://stockanalysis.com/stocks/ and find the symbol for `Costco Wholesale`.\n",
    " - Go ahead and explore  https://pypi.org/project/yfinance/\n",
    " - In the following cell try `import yfinance as yf`\n",
    " - Store Costco's market data (open, high, low, ... ) for the last 12 months in a `DataFrame` called `df_costco`.\n",
    " - Using `matplotlib`, plot `Open` and `Close`for the last 12 months in one plot. Please choose an appropriate plot kind. \n",
    " - Drop columns of `Stock Splits` and `Dividends`.\n",
    " - Create a new column called `Close_to_Open_ratio` that stores the ratio of the Closing price (price at the end of the trading day) to the Opening price (price at the beginning of the trading day).\n",
    " - What is the average of the `Close_to_Open_ratio` column? Show this with proper `f-string`.  \n",
    " - Assume a day trader buys Costco's stock at the beginning of the day and sells it at the end of the day. In what fraction of days, this day trader makes money? Please answer it based on the values in the `Close_to_Open_ratio` column. Use boolean indexing.  **Another way to ask this question is: what is the probability of making some money on a typical day?**"
   ]
  },
  {
   "cell_type": "code",
   "execution_count": null,
   "id": "7d802982-828a-4a32-8d5d-aded49862127",
   "metadata": {
    "tags": []
   },
   "outputs": [],
   "source": [
    "# Solution\n",
    "#!pip install yfinance\n",
    "import yfinance as yf\n",
    "df_costco = yf.download(\"COST\", period=\"1y\")\n",
    "\n",
    "%matplotlib inline\n",
    "import matplotlib.pyplot as plt\n",
    "fig, ax = plt.subplots();\n",
    "ax.plot(df_costco.index, df_costco['Open'], label='Open Price', color='blue');\n",
    "ax.plot(df_costco.index, df_costco['Close'], label='Close Price', color='red');\n",
    "ax.set_xlabel('Date');\n",
    "ax.set_ylabel('Price');\n",
    "ax.set_title('Costco Wholesale Stock Prices');\n",
    "ax.legend();\n",
    "\n",
    "df_costco['Close_to_Open_ratio'] = df_costco['Close'] / df_costco['Open']\n",
    "\n",
    "avg_ratio = df_costco['Close_to_Open_ratio'].mean()\n",
    "print(f\"Average Close-to-Open Ratio: {avg_ratio:.2f}\")\n",
    "\n",
    "profit = (df_costco['Close_to_Open_ratio'] > 1).sum()\n",
    "probability_profit = profit / len(df_costco)\n",
    "print(f\"Probability of Making Money on a Typical Day: {probability_profit:.2%}\")\n"
   ]
  },
  {
   "cell_type": "markdown",
   "id": "19a2a6e1-e829-47ee-b6a1-ff9d63812300",
   "metadata": {},
   "source": [
    "## Question 3: Visualizing unemployment claims\n",
    "\n",
    "The following is the unemployment rate in the U.S. from year 2011 until 2022.\n",
    "\n",
    "**9.8, 9.1, 8.3, 8.0, 6.6, 5.6, 4.8, 4.7, 4.0, 14.7, 4.0, 3.5**\n",
    "\n",
    "**Step 1:** Put these number in a `numpy` array\n",
    "\n",
    "**Step 2:** Create an array of number from year 2011 to 2022 (including 2022)\n",
    "\n",
    "**Step 3:** Create a `pandas` dataframe from the arrays you have created.\n",
    "\n",
    "**Step 4:** Use object-oriented approach of `matplotlib` to construct an appropriate plot of unemployment rates. Please feel free to consult with https://www.data-to-viz.com/ to choose the right kind of plot."
   ]
  },
  {
   "cell_type": "code",
   "execution_count": null,
   "id": "74b19833-4bfe-47fe-901e-2d1794de66ed",
   "metadata": {
    "tags": []
   },
   "outputs": [],
   "source": [
    "# Solution\n",
    "import numpy as np\n",
    "import pandas as pd\n",
    "unemployment = np.array([9.8, 9.1, 8.3, 8.0, 6.6, 5.6, 4.8, 4.7, 4.0, 14.7, 4.0, 3.5])\n",
    "years = np.arange(2011, 2023)\n",
    "unemploy_years = pd.DataFrame(unemployment, years)\n",
    "\n",
    "%matplotlib inline\n",
    "import matplotlib.pyplot as plt \n",
    "fig, ax = plt.subplots()\n",
    "ax.plot(unemploy_years, color='mediumvioletred');\n",
    "ax.set_xlabel('Year');\n",
    "ax.set_ylabel('Unemployment Rate');\n",
    "plt.show()"
   ]
  },
  {
   "cell_type": "markdown",
   "id": "3c311d47-f776-464f-af84-eb2e376c462d",
   "metadata": {
    "tags": []
   },
   "source": [
    "## Question 4: Let's look at your project dataset\n",
    "\n",
    "This question will help you start working on your project datasets. Two of the csv files look at the fuel inventory level for different tanks at different time stamps. Consider `Fuel_Level_Part_1.csv`. For the tank `T 12`, please plot inventory levels for dates after `'2019-06-15'`. \n",
    "\n",
    "fule_level_part_1 = 'https://www.dropbox.com/scl/fi/790m9gez90tjjsmiw27tn/Fuel_Level_Part_1.csv?rlkey=rsb3q82tsfqc7y6ds1qfy12h1&raw=1'\n",
    "\n",
    "fule_level_part_2 = 'https://www.dropbox.com/scl/fi/fjsdt4madtvref5xj18g0/Fuel_Level_Part_2.csv?rlkey=brch0h5n4cuv6qlpm9drbzxnn&raw=1'\n",
    "\n",
    "Invoices = 'https://www.dropbox.com/scl/fi/4q9jh3wmobkzr6ygbirx0/Invoices.csv?rlkey=tki3bfeeifstgxnjwptiwxsnb&raw=1'\n",
    "\n",
    "locations = 'https://www.dropbox.com/scl/fi/cmiedj0s7dd7srn5ffpo6/Locations.csv?rlkey=f6lbol9mwc8t1l8f2f2itr7xf&raw=1'\n",
    "\n",
    "tanks = 'https://www.dropbox.com/scl/fi/4x6hvawziiuzkr51c4n27/Tanks.csv?rlkey=tlgb1dnlgyv4yae7pqnne4tsh&raw=1'\n",
    "\n",
    "**Hint: It is a good idea to look at your project files first and read them carefully first! You may have to use some dataframe combining first!**"
   ]
  },
  {
   "cell_type": "code",
   "execution_count": null,
   "id": "3d65fe9a-bec6-4941-866b-cccb23d12566",
   "metadata": {
    "tags": []
   },
   "outputs": [],
   "source": [
    "# Solution\n",
    "fuel_level_part_1 = 'https://www.dropbox.com/scl/fi/790m9gez90tjjsmiw27tn/Fuel_Level_Part_1.csv?rlkey=rsb3q82tsfqc7y6ds1qfy12h1&raw=1'\n",
    "fuel_level_part_2 = 'https://www.dropbox.com/scl/fi/fjsdt4madtvref5xj18g0/Fuel_Level_Part_2.csv?rlkey=brch0h5n4cuv6qlpm9drbzxnn&raw=1'\n",
    "Invoices = 'https://www.dropbox.com/scl/fi/4q9jh3wmobkzr6ygbirx0/Invoices.csv?rlkey=tki3bfeeifstgxnjwptiwxsnb&raw=1'\n",
    "locations = 'https://www.dropbox.com/scl/fi/cmiedj0s7dd7srn5ffpo6/Locations.csv?rlkey=f6lbol9mwc8t1l8f2f2itr7xf&raw=1'\n",
    "tanks = 'https://www.dropbox.com/scl/fi/4x6hvawziiuzkr51c4n27/Tanks.csv?rlkey=tlgb1dnlgyv4yae7pqnne4tsh&raw=1'\n",
    "\n",
    "df_fuel_level_1 = pd.read_csv(fuel_level_part_1)\n",
    "df_fuel_level_2 = pd.read_csv(fuel_level_part_2)\n",
    "df_invoices = pd.read_csv(Invoices)\n",
    "df_locations = pd.read_csv(locations)\n",
    "df_tanks = pd.read_csv(tanks)\n",
    "\n",
    "df_fuel_level_1['Time stamp'] = pd.to_datetime(df_fuel_level_1['Time stamp'])\n",
    "df_fuel_level_1['Tank ID'].replace('T12', 'T 12', inplace=True)\n",
    "filtered = df_fuel_level_1[df_fuel_level_1['Tank ID'].eq('T 12') & df_fuel_level_1['Time stamp'].gt('2019-06-15')] \n",
    "\n",
    "%matplotlib inline\n",
    "import matplotlib.pyplot as plt\n",
    "fig, ax = plt.subplots();\n",
    "fig.tight_layout();\n",
    "fig.autofmt_xdate(rotation=45);\n",
    "ax.plot(filtered['Time stamp'], filtered['Fuel Level'], color='hotpink');\n",
    "ax.set(xlabel = 'Date', ylabel = 'Fuel Levels', title='Fuel Levels for Tank T 12');"
   ]
  },
  {
   "cell_type": "markdown",
   "id": "2923cbc8-3f39-4a35-ac03-97f43a21c994",
   "metadata": {
    "tags": []
   },
   "source": [
    "## Question 5: Let's look at FIFA World Cup dataset\n",
    "\n",
    "<p style=\"text-align: center;\"> <img src=https://www.dropbox.com/scl/fi/bcmiu3bem7nyu8smlu2vj/fifa_design.jpg?rlkey=72rxblxos2php0yucvfc9jd35&raw=1 width=300/>\n",
    "\n",
    "\n",
    "\n",
    "**Background:**\n",
    "\n",
    "Football (soccer) is my favorite sport! I have played it for many years (and have broken my right leg three times playing footbal!) This question will help us explore statistics about the history of FIFA (Fédération Internationale de Football Association) World Cup. The **FIFA World Cup** is one of the most prominent and celebrated international soccer competitions, held every four years and featuring teams from all over the globe. It is a month-long event that attracts millions of viewers worldwide, showcasing the talents of the world's best soccer players competing for the trophy and the title of world champion.\n",
    "\n",
    "**Thank you *Ian* for sharing this dataset with me!**\n",
    "\n",
    "\n",
    "You will have access to multiple csv files. Please read the following csv file (using `read_csv`) into dataframe and name the dataframe appropriately\n",
    "\n",
    "bookings_link = 'https://www.dropbox.com/scl/fi/n7rhwl7a1ezsrxiwr5ie3/bookings.csv?rlkey=7vzktvhlbp8t77cjkmgcysjeh&raw=1'\n",
    "\n",
    "This dataset containings all the booking information for the FIFA World Cup from 1970-2022. \n",
    "\n",
    "<p style=\"text-align: center;\"> <img src=https://www.dropbox.com/scl/fi/nsoj09gzix8qz2q6sjexh/booking_2.jpg?rlkey=5k6jq9aj9q1cy765jk4ortvwd&raw=1 width=700/>\n",
    "    \n",
    "    \n",
    "**Explanation:** In soccer, a booking is a formal warning given by the referee to a player who has committed a significant foul or unsportsmanlike behavior. A player receives a yellow card for the first booking and a red card for the second, which results in ejection from the game.\n",
    "\n"
   ]
  },
  {
   "cell_type": "code",
   "execution_count": null,
   "id": "d5d822ca-fe46-4dd6-a810-951527901e9f",
   "metadata": {
    "tags": []
   },
   "outputs": [],
   "source": [
    "# solution\n",
    "import pandas as pd\n",
    "bookings_link = 'https://www.dropbox.com/scl/fi/n7rhwl7a1ezsrxiwr5ie3/bookings.csv?rlkey=7vzktvhlbp8t77cjkmgcysjeh&raw=1'\n",
    "df_bookings = pd.read_csv(bookings_link)"
   ]
  },
  {
   "cell_type": "markdown",
   "id": "17f5fd09-2bd1-414f-b885-32e1c99acfeb",
   "metadata": {
    "tags": []
   },
   "source": [
    "## Question 6: \n",
    "\n",
    "How many total yellow cards have been given in all these tournaments? (Answer is just one number). Make sure to use `f-string` for displaying the results."
   ]
  },
  {
   "cell_type": "code",
   "execution_count": null,
   "id": "b59fedc4-71f6-4705-9062-fbea6e3a75df",
   "metadata": {
    "tags": []
   },
   "outputs": [],
   "source": [
    "# Solution\n",
    "import pandas as pd\n",
    "print(f'The total number of yellow cards that were given in these tournaments is: {df_bookings.yellow_card.sum():,}')"
   ]
  },
  {
   "cell_type": "markdown",
   "id": "700859c8-b037-49ac-aecd-f99d0ae3aa19",
   "metadata": {
    "tags": []
   },
   "source": [
    "## Question 7: \n",
    "\n",
    "How many FIFA World Cup tournments data is available in this dataset? \n",
    "\n",
    "**Very strong hint:** use `nunique()` function on an appropriate column. \n",
    "\n",
    "Make sure to use `f-string` for displaying the results."
   ]
  },
  {
   "cell_type": "code",
   "execution_count": null,
   "id": "17ed9ed4-b31e-4b6e-b662-216a887ad6aa",
   "metadata": {
    "tags": []
   },
   "outputs": [],
   "source": [
    "# Solution\n",
    "import pandas as pd\n",
    "print(f'There are {df_bookings.tournament_id.nunique()} FIFA World Cup Tournaments data available')"
   ]
  },
  {
   "cell_type": "markdown",
   "id": "9224a766-c83b-4c0b-b08a-a6449ffa2547",
   "metadata": {
    "tags": []
   },
   "source": [
    "## Question 8: \n",
    "\n",
    "How many total second yellow cards have been given in all these tournaments? (Answer is just one number). Make sure to use `f-string` for displaying the results."
   ]
  },
  {
   "cell_type": "code",
   "execution_count": null,
   "id": "0131f613-8bec-415d-8df3-0b7803c1db14",
   "metadata": {
    "tags": []
   },
   "outputs": [],
   "source": [
    "# solution\n",
    "import pandas as pd\n",
    "second_yellow = df_bookings.second_yellow_card.eq(1).sum() #70\n",
    "print(f'The total second number of yellow cards that were given in these tournaments is: {second_yellow}')"
   ]
  },
  {
   "cell_type": "markdown",
   "id": "ecc7cd80-9166-4157-a657-11b24dcbb6a4",
   "metadata": {
    "tags": []
   },
   "source": [
    "## Question 9: \n",
    "\n",
    "How many total red cards have been given in all these tournaments? (Answer is just one number). Make sure to use `f-string` for displaying the results."
   ]
  },
  {
   "cell_type": "code",
   "execution_count": null,
   "id": "97ec7db5-4909-46d4-adde-1d842b00bd95",
   "metadata": {
    "tags": []
   },
   "outputs": [],
   "source": [
    "# solution\n",
    "import pandas as pd\n",
    "print(f'The total number of red cards that were given in these tournaments is: {df_bookings.red_card.eq(1).sum()}')"
   ]
  },
  {
   "cell_type": "markdown",
   "id": "16d4118e-e37d-48c6-8d07-eb11deda6884",
   "metadata": {
    "tags": []
   },
   "source": [
    "## Question 10: \n",
    "\n",
    "Can you say that sum of second yellow card and red cards is equal to sum of `send-offs`? \n",
    "\n",
    "**Explanation:** In soccer, a *send off* refers to a player being ordered to leave the field by the referee.\n",
    "\n",
    "Make sure to use `f-string` for answering this question."
   ]
  },
  {
   "cell_type": "code",
   "execution_count": null,
   "id": "728f0b8c-8231-4d52-828a-5e7d706451fa",
   "metadata": {
    "tags": []
   },
   "outputs": [],
   "source": [
    "# Solution\n",
    "#df_bookings.sending_off.sum()\n",
    "import pandas as pd\n",
    "second_yellows = df_bookings.second_yellow_card.eq(1).sum()\n",
    "red_cardss = df_bookings.red_card.eq(1).sum()\n",
    "print(f'The sum of second yellow cards and red cards is {second_yellows + red_cardss}. The sum of send-offs is {df_bookings.sending_off.eq(1).sum()}. '\n",
    "      'Therefore, the sum of second yellow cards and red cards is equal to the sum of send-offs.') "
   ]
  },
  {
   "cell_type": "markdown",
   "id": "6fe597d6-6b94-46ab-b425-648a2631339d",
   "metadata": {
    "tags": []
   },
   "source": [
    "## Question 11: \n",
    "\n",
    "Your friend *Ian*, who loves playing soccer, claims that the total number of bookings in the first half is more than in the second half! Can you use `value_counts()` to check his claim? Visualize the results using the `plot` function and ensure to select an appropriate type of plot."
   ]
  },
  {
   "cell_type": "code",
   "execution_count": null,
   "id": "41ee47c7-c71d-4fd1-addb-eecfc503da77",
   "metadata": {},
   "outputs": [],
   "source": [
    "# Solution\n",
    "%matplotlib inline\n",
    "import matplotlib.pyplot as plt\n",
    "\n",
    "bookings = df_bookings.match_period.value_counts()\n",
    "first_half_bookings = bookings.get(['first half', 'first half, stoppage time', 'extra time, first half', 'extra time, first half, stoppage time']).sum()\n",
    "second_half_bookings = bookings.get(['second half', 'second half, stoppage time', 'extra time, second half', 'extra time, second half, stoppage time']).sum()\n",
    "\n",
    "plt.bar(['First Half', 'Second Half'], [first_half_bookings, second_half_bookings], color=['cornflowerblue', 'lightgreen']);\n",
    "plt.ylabel('Total Number of Bookings');\n",
    "plt.title('Total Number of Bookings per Match Period');\n"
   ]
  },
  {
   "cell_type": "markdown",
   "id": "6df3be4d-4e59-4a78-a61f-221ddb7dc882",
   "metadata": {
    "tags": []
   },
   "source": [
    "## Question 12: \n",
    "\n",
    "My friend *Milo*, who loves playing with a soccer ball, claims that World Cup games become more aggressive over time. One way to measure level of aggressiveness is by counting number of bookings in each tournment. Use `groupby`, `count`, and `plot` functions to visualize total number of bookings in each tournment. Do you think Milo is right?"
   ]
  },
  {
   "cell_type": "code",
   "execution_count": null,
   "id": "ed0727b7-104b-4307-89a0-890b3476d157",
   "metadata": {},
   "outputs": [],
   "source": [
    "# Solution\n",
    "%matplotlib inline\n",
    "import matplotlib.pyplot as plt\n",
    "import pandas as pd\n",
    "\n",
    "tournament_bookings = df_bookings.groupby(by='tournament_id').booking_id.count().reset_index()\n",
    "plt.barh(tournament_bookings.tournament_id, tournament_bookings.booking_id, color='darkturquoise');\n",
    "plt.tight_layout();\n",
    "plt.xlabel('Number of bookings');\n",
    "plt.ylabel('Tournament ID');\n",
    "plt.title('Number of Bookings in each Tournament');"
   ]
  },
  {
   "cell_type": "markdown",
   "id": "992e4cc1-19bb-45f0-91e3-5d4fb20ec566",
   "metadata": {
    "tags": []
   },
   "source": [
    "## Question 13: \n",
    "\n",
    "Which game had the largest number of bookings?\n",
    "\n",
    "**Note:** This is a bit of challenging question. You may want to explore using `groupby` a bit."
   ]
  },
  {
   "cell_type": "code",
   "execution_count": null,
   "id": "85d1fd78-b11e-4f5f-99db-9e5f5f101694",
   "metadata": {},
   "outputs": [],
   "source": [
    "# Solution \n",
    "import pandas as pd\n",
    "match_bookings = df_bookings.groupby(by='match_id').booking_id.count()\n",
    "most_bookings = match_bookings.idxmax()\n",
    "print(f'The game that had the largest number of bookings is {most_bookings}') # M-2022-58\n",
    "print(df_bookings[df_bookings.match_id.eq(most_bookings)])\n"
   ]
  },
  {
   "cell_type": "markdown",
   "id": "4dce1ffc-9366-49cd-8fd8-6def6abeb563",
   "metadata": {},
   "source": [
    "# Question 14\n",
    "\n",
    "Now we will explore information about the players. Please read the following csv file (using `read_csv`) into dataframe and name the dataframe appropriately\n",
    "\n",
    "players_link = 'https://www.dropbox.com/scl/fi/k3aw29vgt0kf2vqcgein6/players.csv?rlkey=yzr8xjjdhawo5z7afg4dxklvr&raw=1'\n",
    "\n",
    "This dataset contains information about the players who participated in the FIFA World Cup from 1970 to 2022.  "
   ]
  },
  {
   "cell_type": "code",
   "execution_count": null,
   "id": "85426b0d-d0cc-4afa-aaf6-877a901b1833",
   "metadata": {
    "tags": []
   },
   "outputs": [],
   "source": [
    "# Solution\n",
    "import pandas as pd\n",
    "players_link = 'https://www.dropbox.com/scl/fi/k3aw29vgt0kf2vqcgein6/players.csv?rlkey=yzr8xjjdhawo5z7afg4dxklvr&raw=1'\n",
    "df_players = pd.read_csv(players_link)"
   ]
  },
  {
   "cell_type": "markdown",
   "id": "ab5b1f4a-108a-4b16-a6c1-e33ff410a990",
   "metadata": {},
   "source": [
    "# Question 15\n",
    "\n",
    "How many rows does this dataset have? You must use `f-string` to show the results."
   ]
  },
  {
   "cell_type": "code",
   "execution_count": null,
   "id": "8d6c1137-4de9-4bab-a1f5-1df43b0536f3",
   "metadata": {
    "tags": []
   },
   "outputs": [],
   "source": [
    "# Solution\n",
    "import pandas as pd\n",
    "print(f'The players dataset has {df_players.shape[0]:,} rows')"
   ]
  },
  {
   "cell_type": "markdown",
   "id": "4dea5a04-d11d-46b7-b1cc-b430eece92e8",
   "metadata": {},
   "source": [
    "# Question 16\n",
    "\n",
    "Professor Naser claims that `player_id` is a unique number assigned to each player. Can you use `nunique` function along with the answer to the previous part to check his claim? "
   ]
  },
  {
   "cell_type": "code",
   "execution_count": null,
   "id": "0cc049c7-dc76-42e3-b3dc-fc1e31c844b3",
   "metadata": {
    "tags": []
   },
   "outputs": [],
   "source": [
    "# Solution\n",
    "import pandas as pd\n",
    "print(f'The number of rows in this dataset is 10,401 and the number of unique characters in player_id is: {df_players.player_id.nunique():,}')"
   ]
  },
  {
   "cell_type": "markdown",
   "id": "d073a15a-9977-4d63-ade1-e1eca66e64bc",
   "metadata": {},
   "source": [
    "# Question 17\n",
    "\n",
    "Visualize number of `male` and `female` players in this dataset. Make sure that your plot has appropriate `xlabel`, `ylabel`, and `title`. Feel free to use `matplotlib`, `pandas`, or `seaborn` for visualization"
   ]
  },
  {
   "cell_type": "code",
   "execution_count": null,
   "id": "364b4eb0-48f9-49b4-8684-6377aa808ce1",
   "metadata": {
    "tags": []
   },
   "outputs": [],
   "source": [
    "# Solution\n",
    "%matplotlib inline\n",
    "import matplotlib.pyplot as plt\n",
    "import pandas as pd\n",
    "fig, ax = plt.subplots();\n",
    "fig.tight_layout();\n",
    "\n",
    "ax.bar(['Male', 'Female'], df_players.female.value_counts(), color=['mediumpurple', 'lightcoral']);\n",
    "ax.set(xlabel = 'Gender', ylabel='Total Number', title = 'Total Number of Men and Women');\n"
   ]
  },
  {
   "cell_type": "markdown",
   "id": "a0249454-c7fd-4ab1-ae99-dc581d4d05a3",
   "metadata": {},
   "source": [
    "# Question 18\n",
    "\n",
    "Some players may play in more than one tournment. How many players have played in just one tournment? You must use `f-string` to show the results."
   ]
  },
  {
   "cell_type": "code",
   "execution_count": null,
   "id": "8f1a0a81-4191-456f-836e-05bd82c696a3",
   "metadata": {
    "tags": []
   },
   "outputs": [],
   "source": [
    "# Solution\n",
    "import pandas as pd\n",
    "print(f'The players that played in just 1 tournament is: {df_players.count_tournaments.eq(1).sum():,} players')"
   ]
  },
  {
   "cell_type": "markdown",
   "id": "1ffb2a02-6851-476c-a8f0-78c75c9d147e",
   "metadata": {},
   "source": [
    "# Question 19\n",
    "\n",
    "The following dataset contains information about the award winners:\n",
    "\n",
    "awards_winners_link = 'https://www.dropbox.com/scl/fi/etewiuf5muakg7pw3n2za/award_winners.csv?rlkey=fh9ad72jmnyzdsqaf4uuli52n&raw=1'\n",
    "\n",
    "Using `read_csv`, create a dataframe for awards winners. How many `Golden Gloves` awards were given in all of these tournments? You must use `f-string` to show the results."
   ]
  },
  {
   "cell_type": "code",
   "execution_count": null,
   "id": "027bfeb4-a7a1-4b05-b89b-dd42cf56b625",
   "metadata": {
    "tags": []
   },
   "outputs": [],
   "source": [
    "# Solution\n",
    "import pandas as pd\n",
    "awards_winners_link = 'https://www.dropbox.com/scl/fi/etewiuf5muakg7pw3n2za/award_winners.csv?rlkey=fh9ad72jmnyzdsqaf4uuli52n&raw=1'\n",
    "df_awards_winners = pd.read_csv(awards_winners_link)\n",
    "print(f'The number of \"Golden Gloves\" awards that were given is: {df_awards_winners.award_name.eq(\"Golden Glove\").sum()}')"
   ]
  },
  {
   "cell_type": "markdown",
   "id": "25f57a71-f04c-4dfb-87bd-7a9adc4380a8",
   "metadata": {},
   "source": [
    "# Question 20\n",
    "\n",
    "You are provided with three dataframes: students, grades, and subjects. Read the following `csv` files and create three dataframes named `students_df`, `subjects_df`, and `grades_df`. \n",
    "\n",
    "students_link = 'https://www.dropbox.com/scl/fi/urms326s0f7jg7ged9fen/students.csv?rlkey=27847ob68xhuyiuwamqv0lo43&raw=1'\n",
    "\n",
    "subjects_link = 'https://www.dropbox.com/scl/fi/w45snd4dus88sznvaqd8j/subjects.csv?rlkey=3rb8k9clnqtwygqza47tuiyv0&raw=1'\n",
    "\n",
    "grades_link = 'https://www.dropbox.com/scl/fi/g3b9ds2wcm22sly1r9127/grades.csv?rlkey=4rfiwwpl0ap1yfo3mjrrjuzgm&raw=1'\n"
   ]
  },
  {
   "cell_type": "code",
   "execution_count": null,
   "id": "2ec56b82-d1b3-412c-9cc2-761a6b51dfaf",
   "metadata": {
    "tags": []
   },
   "outputs": [],
   "source": [
    "# Solution\n",
    "import pandas as pd\n",
    "students_link = 'https://www.dropbox.com/scl/fi/urms326s0f7jg7ged9fen/students.csv?rlkey=27847ob68xhuyiuwamqv0lo43&raw=1'\n",
    "subjects_link = 'https://www.dropbox.com/scl/fi/w45snd4dus88sznvaqd8j/subjects.csv?rlkey=3rb8k9clnqtwygqza47tuiyv0&raw=1'\n",
    "grades_link = 'https://www.dropbox.com/scl/fi/g3b9ds2wcm22sly1r9127/grades.csv?rlkey=4rfiwwpl0ap1yfo3mjrrjuzgm&raw=1'\n",
    "\n",
    "students_df = pd.read_csv(students_link)\n",
    "subjects_df = pd.read_csv(subjects_link)\n",
    "grades_df = pd.read_csv(grades_link)"
   ]
  },
  {
   "cell_type": "markdown",
   "id": "3fedef67-e4e1-4424-8eb7-f7e529acb4c8",
   "metadata": {},
   "source": [
    "# Question 21\n",
    "\n",
    "Merge the students and grades dataframes to show all students with their respective grades."
   ]
  },
  {
   "cell_type": "code",
   "execution_count": null,
   "id": "33737ddf-a8df-4370-9210-5f97d04e4d25",
   "metadata": {
    "tags": []
   },
   "outputs": [],
   "source": [
    "# Solution\n",
    "import pandas as pd\n",
    "students_grades = students_df.merge(grades_df, on = 'student_id', how='left').drop_duplicates()\n",
    "print(students_grades)"
   ]
  },
  {
   "cell_type": "markdown",
   "id": "4464034d-16d8-4e37-8abd-78d9aacf56e0",
   "metadata": {},
   "source": [
    "# Question 22\n",
    "\n",
    "Merge the grades and subjects dataframes to associate each grade with the subject name. Exclude grades for which there are no subject names available."
   ]
  },
  {
   "cell_type": "code",
   "execution_count": null,
   "id": "880c3e15-f972-416f-b2b2-51dd9d05c04d",
   "metadata": {
    "tags": []
   },
   "outputs": [],
   "source": [
    "# Solution\n",
    "import pandas as pd\n",
    "grades_subjects = grades_df.merge(subjects_df, on='subject_code', how='inner').drop_duplicates()\n",
    "print(grades_subjects)"
   ]
  },
  {
   "cell_type": "markdown",
   "id": "45a787c2-d611-4e08-b46b-3029a9f72fbc",
   "metadata": {},
   "source": [
    "# Question 23\n",
    "\n",
    "Create a new dataframe that includes all students, their grades, and the corresponding subject names. Fill in the gaps wherever the data is missing.\n",
    "\n",
    "Hint: You can use `fillna('No Subject', inplace=True)` to replace missing values in subject columns with `No Subject`. You can do the same for all other columns with necessary messages.\n"
   ]
  },
  {
   "cell_type": "code",
   "execution_count": null,
   "id": "660c8759-9f94-4810-8dd2-524ba8021231",
   "metadata": {
    "tags": []
   },
   "outputs": [],
   "source": [
    "# Solution\n",
    "import pandas as pd\n",
    "students_grades = students_df.merge(grades_df, on = 'student_id', how='inner').drop_duplicates()\n",
    "grades_subjects = grades_df.merge(subjects_df, on='subject_code', how='right').drop_duplicates()\n",
    "merged_data = students_grades.merge(grades_subjects[['student_id', 'subject_code', 'grade', 'subject_name']], on=['student_id', 'grade', 'subject_code'], how='inner')\n",
    "\n",
    "merged_data.fillna({'student_name':'No Student', 'student_id':'No Student ID', 'program':'No Program', 'subject_code':'No Subject Code', 'grade': 'No Grade', 'subject_name': 'No Subject'}, inplace=True)\n",
    "print(merged_data.head())"
   ]
  },
  {
   "cell_type": "markdown",
   "id": "f59d4959-0ae2-4279-9813-b97e62244d77",
   "metadata": {},
   "source": [
    "# Question 24\n",
    "\n",
    "List all the students in the CS program along with their grades and the names of the subjects they are enrolled in.\n"
   ]
  },
  {
   "cell_type": "code",
   "execution_count": null,
   "id": "3c59f089-156f-40fd-ab38-057a834313da",
   "metadata": {},
   "outputs": [],
   "source": [
    "# Solution\n",
    "import pandas as pd\n",
    "print(merged_data.groupby(by='program').get_group('CS'))"
   ]
  },
  {
   "cell_type": "markdown",
   "id": "84221485-d63a-4497-969e-a6192f884f6d",
   "metadata": {},
   "source": [
    "# Question 25\n",
    "\n",
    "Identify the students who are in the Engineering program but haven’t received any grades.\n"
   ]
  },
  {
   "cell_type": "code",
   "execution_count": null,
   "id": "f86d1aba-887d-4e74-81ea-63d6711682a1",
   "metadata": {},
   "outputs": [],
   "source": [
    "# Solution\n",
    "engineering = merged_data[merged_data.program.eq('Engineering')]\n",
    "print(engineering.grade.get('No Grade'))"
   ]
  },
  {
   "cell_type": "markdown",
   "id": "cb9fcd60-c453-4773-bb6e-473060099d14",
   "metadata": {},
   "source": [
    "# Question 26\n",
    "\n",
    "For each program, list the students who have received an 'A' grade. Merge the appropriate dataframes and filter the results.\n"
   ]
  },
  {
   "cell_type": "code",
   "execution_count": null,
   "id": "4fc3dc75-7f84-4b95-a070-4f669e6460ba",
   "metadata": {},
   "outputs": [],
   "source": [
    "# Solution\n",
    "import pandas as pd\n",
    "print(merged_data[merged_data['grade'] == 'A'][['student_name', 'program']].groupby(by='program').value_counts())"
   ]
  },
  {
   "cell_type": "markdown",
   "id": "8f4927ed-9186-41f7-8240-cf4e7cbe019a",
   "metadata": {},
   "source": [
    "# Question 27\n",
    "\n",
    "In orders dataset we have worked with, please find correlation of number of cookies and number of drinks. Visualize this correlation using a heatmap and display the correlation numbers on this heatmap."
   ]
  },
  {
   "cell_type": "code",
   "execution_count": null,
   "id": "c3297326-423d-4dfb-a787-0278f88fd12a",
   "metadata": {},
   "outputs": [],
   "source": [
    "# Solution\n",
    "LINK_ORDERS = 'https://www.dropbox.com/s/fckortfcnqdkisk/orders.csv?raw=1'\n",
    "import numpy as np\n",
    "import pandas as pd\n",
    "pd.options.display.precision = 2\n",
    "%matplotlib inline\n",
    "import matplotlib.pyplot as plt\n",
    "import seaborn as sns\n",
    "df_orders = pd.read_csv(LINK_ORDERS)\n",
    "\n",
    "df_cookies_drinks=df_orders[['COOKIES', 'DRINKS']]\n",
    "df_cookies_drinks.corr()\n",
    "print(sns.heatmap(df_cookies_drinks.corr(numeric_only=True), annot=True))"
   ]
  }
 ],
 "metadata": {
  "kernelspec": {
   "display_name": "Python 3 (ipykernel)",
   "language": "python",
   "name": "python3"
  },
  "language_info": {
   "codemirror_mode": {
    "name": "ipython",
    "version": 3
   },
   "file_extension": ".py",
   "mimetype": "text/x-python",
   "name": "python",
   "nbconvert_exporter": "python",
   "pygments_lexer": "ipython3",
   "version": "3.11.4"
  }
 },
 "nbformat": 4,
 "nbformat_minor": 5
}
